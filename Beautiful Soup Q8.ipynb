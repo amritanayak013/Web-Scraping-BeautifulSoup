{
 "cells": [
  {
   "cell_type": "raw",
   "metadata": {},
   "source": [
    "Q8.Write a python program to extract information about the local weather from the National Weather Service website of USA, https://www.weather.gov/ for the city, San Francisco. You need to extract data about 7 day extended forecast display for the city. The data should include period, short description, temperature and description."
   ]
  },
  {
   "cell_type": "code",
   "execution_count": 1,
   "metadata": {},
   "outputs": [],
   "source": [
    "from bs4 import BeautifulSoup\n",
    "import requests\n",
    "import re\n",
    "import csv"
   ]
  },
  {
   "cell_type": "code",
   "execution_count": 2,
   "metadata": {},
   "outputs": [
    {
     "name": "stdout",
     "output_type": "stream",
     "text": [
      "<div class=\"tombstone-container\">\n",
      " <p class=\"period-name\">\n",
      "  Tonight\n",
      "  <br/>\n",
      "  <br/>\n",
      " </p>\n",
      " <p>\n",
      "  <img alt=\"Tonight: Mostly clear, with a low around 46. West wind 5 to 7 mph. \" class=\"forecast-icon\" src=\"newimages/medium/nfew.png\" title=\"Tonight: Mostly clear, with a low around 46. West wind 5 to 7 mph. \"/>\n",
      " </p>\n",
      " <p class=\"short-desc\">\n",
      "  Mostly Clear\n",
      " </p>\n",
      " <p class=\"temp temp-low\">\n",
      "  Low: 46 °F\n",
      " </p>\n",
      "</div>\n"
     ]
    }
   ],
   "source": [
    "page = requests.get(\"http://forecast.weather.gov/MapClick.php?lat=37.7772&lon=-122.4168\")\n",
    "soup = BeautifulSoup(page.content, 'html.parser')\n",
    "seven_day = soup.find(id=\"seven-day-forecast\")\n",
    "forecast_items = seven_day.find_all(class_=\"tombstone-container\")\n",
    "tonight = forecast_items[0]\n",
    "print(tonight.prettify())"
   ]
  },
  {
   "cell_type": "code",
   "execution_count": 3,
   "metadata": {},
   "outputs": [],
   "source": [
    "period = tonight.find(class_=\"period-name\").get_text()\n",
    "short_desc = tonight.find(class_=\"short-desc\").get_text()\n",
    "temp = tonight.find(class_=\"temp\").get_text()"
   ]
  },
  {
   "cell_type": "code",
   "execution_count": 4,
   "metadata": {},
   "outputs": [
    {
     "name": "stdout",
     "output_type": "stream",
     "text": [
      "Tonight\n",
      "Mostly Clear\n",
      "Low: 46 °F\n"
     ]
    }
   ],
   "source": [
    "print (period)\n",
    "print (short_desc)\n",
    "print (temp)"
   ]
  },
  {
   "cell_type": "code",
   "execution_count": 5,
   "metadata": {},
   "outputs": [],
   "source": [
    "img = tonight.find(\"img\")\n",
    "desc = img['title']"
   ]
  },
  {
   "cell_type": "code",
   "execution_count": 6,
   "metadata": {},
   "outputs": [
    {
     "name": "stdout",
     "output_type": "stream",
     "text": [
      "Tonight: Mostly clear, with a low around 46. West wind 5 to 7 mph. \n"
     ]
    }
   ],
   "source": [
    "print(desc)"
   ]
  },
  {
   "cell_type": "code",
   "execution_count": 9,
   "metadata": {},
   "outputs": [],
   "source": [
    "period_tags = seven_day.select(\".tombstone-container .period-name\")"
   ]
  },
  {
   "cell_type": "code",
   "execution_count": 11,
   "metadata": {},
   "outputs": [
    {
     "data": {
      "text/plain": [
       "['Tonight',\n",
       " 'Monday',\n",
       " 'MondayNight',\n",
       " 'Tuesday',\n",
       " 'TuesdayNight',\n",
       " 'Wednesday',\n",
       " 'WednesdayNight',\n",
       " 'Thursday',\n",
       " 'ThursdayNight']"
      ]
     },
     "execution_count": 11,
     "metadata": {},
     "output_type": "execute_result"
    }
   ],
   "source": [
    "periods = [pt.get_text() for pt in period_tags]\n",
    "periods"
   ]
  },
  {
   "cell_type": "code",
   "execution_count": 13,
   "metadata": {},
   "outputs": [
    {
     "name": "stdout",
     "output_type": "stream",
     "text": [
      "['Mostly Clear', 'Sunny', 'Mostly Clear', 'Sunny', 'Clear', 'Sunny', 'Mostly Clear', 'Sunny', 'Clear']\n",
      "['Low: 46 °F', 'High: 62 °F', 'Low: 47 °F', 'High: 66 °F', 'Low: 49 °F', 'High: 67 °F', 'Low: 48 °F', 'High: 63 °F', 'Low: 47 °F']\n",
      "['Tonight: Mostly clear, with a low around 46. West wind 5 to 7 mph. ', 'Monday: Sunny, with a high near 62. Light northwest wind becoming west 16 to 21 mph in the afternoon. Winds could gust as high as 26 mph. ', 'Monday Night: Mostly clear, with a low around 47. West northwest wind 8 to 15 mph, with gusts as high as 20 mph. ', 'Tuesday: Sunny, with a high near 66. North wind 6 to 16 mph, with gusts as high as 24 mph. ', 'Tuesday Night: Clear, with a low around 49. North wind 14 to 17 mph, with gusts as high as 36 mph. ', 'Wednesday: Sunny, with a high near 67.', 'Wednesday Night: Mostly clear, with a low around 48.', 'Thursday: Sunny, with a high near 63.', 'Thursday Night: Clear, with a low around 47.']\n"
     ]
    }
   ],
   "source": [
    "short_descs = [sd.get_text() for sd in seven_day.select(\".tombstone-container .short-desc\")]\n",
    "temps = [t.get_text() for t in seven_day.select(\".tombstone-container .temp\")]\n",
    "descs = [d[\"title\"] for d in seven_day.select(\".tombstone-container img\")]\n",
    "print(short_descs)\n",
    "print(temps)\n",
    "print(descs)"
   ]
  },
  {
   "cell_type": "code",
   "execution_count": 14,
   "metadata": {},
   "outputs": [
    {
     "data": {
      "text/html": [
       "<div>\n",
       "<style scoped>\n",
       "    .dataframe tbody tr th:only-of-type {\n",
       "        vertical-align: middle;\n",
       "    }\n",
       "\n",
       "    .dataframe tbody tr th {\n",
       "        vertical-align: top;\n",
       "    }\n",
       "\n",
       "    .dataframe thead th {\n",
       "        text-align: right;\n",
       "    }\n",
       "</style>\n",
       "<table border=\"1\" class=\"dataframe\">\n",
       "  <thead>\n",
       "    <tr style=\"text-align: right;\">\n",
       "      <th></th>\n",
       "      <th>period</th>\n",
       "      <th>short_desc</th>\n",
       "      <th>temp</th>\n",
       "      <th>desc</th>\n",
       "    </tr>\n",
       "  </thead>\n",
       "  <tbody>\n",
       "    <tr>\n",
       "      <th>0</th>\n",
       "      <td>Tonight</td>\n",
       "      <td>Mostly Clear</td>\n",
       "      <td>Low: 46 °F</td>\n",
       "      <td>Tonight: Mostly clear, with a low around 46. W...</td>\n",
       "    </tr>\n",
       "    <tr>\n",
       "      <th>1</th>\n",
       "      <td>Monday</td>\n",
       "      <td>Sunny</td>\n",
       "      <td>High: 62 °F</td>\n",
       "      <td>Monday: Sunny, with a high near 62. Light nort...</td>\n",
       "    </tr>\n",
       "    <tr>\n",
       "      <th>2</th>\n",
       "      <td>MondayNight</td>\n",
       "      <td>Mostly Clear</td>\n",
       "      <td>Low: 47 °F</td>\n",
       "      <td>Monday Night: Mostly clear, with a low around ...</td>\n",
       "    </tr>\n",
       "    <tr>\n",
       "      <th>3</th>\n",
       "      <td>Tuesday</td>\n",
       "      <td>Sunny</td>\n",
       "      <td>High: 66 °F</td>\n",
       "      <td>Tuesday: Sunny, with a high near 66. North win...</td>\n",
       "    </tr>\n",
       "    <tr>\n",
       "      <th>4</th>\n",
       "      <td>TuesdayNight</td>\n",
       "      <td>Clear</td>\n",
       "      <td>Low: 49 °F</td>\n",
       "      <td>Tuesday Night: Clear, with a low around 49. No...</td>\n",
       "    </tr>\n",
       "    <tr>\n",
       "      <th>5</th>\n",
       "      <td>Wednesday</td>\n",
       "      <td>Sunny</td>\n",
       "      <td>High: 67 °F</td>\n",
       "      <td>Wednesday: Sunny, with a high near 67.</td>\n",
       "    </tr>\n",
       "    <tr>\n",
       "      <th>6</th>\n",
       "      <td>WednesdayNight</td>\n",
       "      <td>Mostly Clear</td>\n",
       "      <td>Low: 48 °F</td>\n",
       "      <td>Wednesday Night: Mostly clear, with a low arou...</td>\n",
       "    </tr>\n",
       "    <tr>\n",
       "      <th>7</th>\n",
       "      <td>Thursday</td>\n",
       "      <td>Sunny</td>\n",
       "      <td>High: 63 °F</td>\n",
       "      <td>Thursday: Sunny, with a high near 63.</td>\n",
       "    </tr>\n",
       "    <tr>\n",
       "      <th>8</th>\n",
       "      <td>ThursdayNight</td>\n",
       "      <td>Clear</td>\n",
       "      <td>Low: 47 °F</td>\n",
       "      <td>Thursday Night: Clear, with a low around 47.</td>\n",
       "    </tr>\n",
       "  </tbody>\n",
       "</table>\n",
       "</div>"
      ],
      "text/plain": [
       "           period    short_desc         temp  \\\n",
       "0         Tonight  Mostly Clear   Low: 46 °F   \n",
       "1          Monday         Sunny  High: 62 °F   \n",
       "2     MondayNight  Mostly Clear   Low: 47 °F   \n",
       "3         Tuesday         Sunny  High: 66 °F   \n",
       "4    TuesdayNight         Clear   Low: 49 °F   \n",
       "5       Wednesday         Sunny  High: 67 °F   \n",
       "6  WednesdayNight  Mostly Clear   Low: 48 °F   \n",
       "7        Thursday         Sunny  High: 63 °F   \n",
       "8   ThursdayNight         Clear   Low: 47 °F   \n",
       "\n",
       "                                                desc  \n",
       "0  Tonight: Mostly clear, with a low around 46. W...  \n",
       "1  Monday: Sunny, with a high near 62. Light nort...  \n",
       "2  Monday Night: Mostly clear, with a low around ...  \n",
       "3  Tuesday: Sunny, with a high near 66. North win...  \n",
       "4  Tuesday Night: Clear, with a low around 49. No...  \n",
       "5             Wednesday: Sunny, with a high near 67.  \n",
       "6  Wednesday Night: Mostly clear, with a low arou...  \n",
       "7              Thursday: Sunny, with a high near 63.  \n",
       "8       Thursday Night: Clear, with a low around 47.  "
      ]
     },
     "execution_count": 14,
     "metadata": {},
     "output_type": "execute_result"
    }
   ],
   "source": [
    "import pandas as pd\n",
    "weather = pd.DataFrame({\n",
    "        \"period\": periods,\n",
    "         \"short_desc\": short_descs,\n",
    "         \"temp\": temps,\n",
    "         \"desc\":descs\n",
    "    })\n",
    "weather"
   ]
  },
  {
   "cell_type": "code",
   "execution_count": null,
   "metadata": {},
   "outputs": [],
   "source": []
  }
 ],
 "metadata": {
  "kernelspec": {
   "display_name": "Python 3",
   "language": "python",
   "name": "python3"
  },
  "language_info": {
   "codemirror_mode": {
    "name": "ipython",
    "version": 3
   },
   "file_extension": ".py",
   "mimetype": "text/x-python",
   "name": "python",
   "nbconvert_exporter": "python",
   "pygments_lexer": "ipython3",
   "version": "3.7.6"
  }
 },
 "nbformat": 4,
 "nbformat_minor": 4
}
