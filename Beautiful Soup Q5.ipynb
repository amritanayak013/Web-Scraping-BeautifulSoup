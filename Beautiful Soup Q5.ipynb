{
 "cells": [
  {
   "cell_type": "raw",
   "metadata": {},
   "source": [
    "Q5.Write a python program to scrape cricket rankings from ‘www.icc-cricket.com’. You have to scrape:\n",
    "i) Top 10 ODI teams in men’s cricket along with the records for matches, points and rating.\n",
    "ii) Top 10 ODI Batsmen in men along with the records of their team and rating.\n",
    "iii) Top 10 ODI bowlers along with the records of their team and rating."
   ]
  },
  {
   "cell_type": "code",
   "execution_count": 9,
   "metadata": {},
   "outputs": [],
   "source": [
    "from bs4 import BeautifulSoup\n",
    "import requests\n",
    "import re\n",
    "import pandas as pd"
   ]
  },
  {
   "cell_type": "code",
   "execution_count": 7,
   "metadata": {},
   "outputs": [],
   "source": [
    "#top 10 ODI teams in Men's Cricket along with the records for matches, points and rating.\n",
    "url='https://www.icc-cricket.com/rankings/mens/team-rankings/odi'\n",
    "response=requests.get(url)\n",
    "soup = BeautifulSoup(response.text,'lxml')"
   ]
  },
  {
   "cell_type": "code",
   "execution_count": 2,
   "metadata": {},
   "outputs": [
    {
     "name": "stdout",
     "output_type": "stream",
     "text": [
      "Do you want to refresh scores?[Y/N]Y\n",
      "------------------------------------------\n",
      "Latest scores from Cricinfo\n",
      "West Indies 49/1 * v Sri Lanka 169/10 \n",
      "Queensland v South Australia\n",
      "New Zealand v Bangladesh\n",
      "Do you want to refresh scores?[Y/N]Y\n",
      "------------------------------------------\n",
      "Latest scores from Cricinfo\n",
      "West Indies 49/1 * v Sri Lanka 169/10 \n",
      "Queensland v South Australia\n",
      "New Zealand v Bangladesh\n",
      "Do you want to refresh scores?[Y/N]Y\n",
      "------------------------------------------\n",
      "Latest scores from Cricinfo\n",
      "West Indies 49/1 * v Sri Lanka 169/10 \n",
      "Queensland v South Australia\n",
      "New Zealand v Bangladesh\n",
      "Do you want to refresh scores?[Y/N]N\n"
     ]
    }
   ],
   "source": [
    "#top 10 ODI teams in Men's Cricket along with the records for matches, points and rating.\n",
    "score_page = 'http://static.cricinfo.com/rss/livescores.xml'\n",
    "while True:\n",
    " page = urllib.request.urlopen(score_page)\n",
    " soup = BeautifulSoup(page, 'html.parser')\n",
    " result = soup.find_all('description') \n",
    " message = input('Do you want to refresh scores?[Y/N]')\n",
    " if message == 'Y':\n",
    "     print('------------------------------------------')\n",
    "     for match in result:\n",
    "         print(match.get_text())\n",
    " elif message == 'N':\n",
    "     break\n",
    " else:\n",
    "     print('Please enter “Y” or “N” only.')\n",
    "     continue"
   ]
  },
  {
   "cell_type": "code",
   "execution_count": null,
   "metadata": {},
   "outputs": [],
   "source": []
  }
 ],
 "metadata": {
  "kernelspec": {
   "display_name": "Python 3",
   "language": "python",
   "name": "python3"
  },
  "language_info": {
   "codemirror_mode": {
    "name": "ipython",
    "version": 3
   },
   "file_extension": ".py",
   "mimetype": "text/x-python",
   "name": "python",
   "nbconvert_exporter": "python",
   "pygments_lexer": "ipython3",
   "version": "3.7.6"
  }
 },
 "nbformat": 4,
 "nbformat_minor": 4
}
