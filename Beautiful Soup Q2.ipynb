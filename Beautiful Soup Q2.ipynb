{
 "cells": [
  {
   "cell_type": "raw",
   "metadata": {},
   "source": [
    "Q2.Write a python program to display IMDB’s Top rated 100 movies’ data (i.e. Name, IMDB rating, Year of release) and save it in form of a CSV file."
   ]
  },
  {
   "cell_type": "code",
   "execution_count": 1,
   "metadata": {},
   "outputs": [],
   "source": [
    "from bs4 import BeautifulSoup\n",
    "import requests\n",
    "import re\n",
    "import csv\n",
    "import pandas as pd"
   ]
  },
  {
   "cell_type": "code",
   "execution_count": 2,
   "metadata": {},
   "outputs": [],
   "source": [
    "# Download IMDB's Top 250 data\n",
    "url = 'http://www.imdb.com/chart/top'\n",
    "response = requests.get(url)\n",
    "soup = BeautifulSoup(response.text,'lxml')"
   ]
  },
  {
   "cell_type": "code",
   "execution_count": 3,
   "metadata": {},
   "outputs": [
    {
     "ename": "NameError",
     "evalue": "name 'soup' is not defined",
     "output_type": "error",
     "traceback": [
      "\u001b[1;31m---------------------------------------------------------------------------\u001b[0m",
      "\u001b[1;31mNameError\u001b[0m                                 Traceback (most recent call last)",
      "\u001b[1;32m<ipython-input-3-5333cd422cf2>\u001b[0m in \u001b[0;36m<module>\u001b[1;34m\u001b[0m\n\u001b[1;32m----> 1\u001b[1;33m \u001b[0mmovies\u001b[0m \u001b[1;33m=\u001b[0m \u001b[0msoup\u001b[0m\u001b[1;33m.\u001b[0m\u001b[0mselect\u001b[0m\u001b[1;33m(\u001b[0m\u001b[1;34m'td.titleColumn'\u001b[0m\u001b[1;33m)\u001b[0m\u001b[1;33m\u001b[0m\u001b[1;33m\u001b[0m\u001b[0m\n\u001b[0m\u001b[0;32m      2\u001b[0m \u001b[0mlinks\u001b[0m \u001b[1;33m=\u001b[0m \u001b[1;33m[\u001b[0m\u001b[0ma\u001b[0m\u001b[1;33m.\u001b[0m\u001b[0mattrs\u001b[0m\u001b[1;33m.\u001b[0m\u001b[0mget\u001b[0m\u001b[1;33m(\u001b[0m\u001b[1;34m'href'\u001b[0m\u001b[1;33m)\u001b[0m \u001b[1;32mfor\u001b[0m \u001b[0ma\u001b[0m \u001b[1;32min\u001b[0m \u001b[0msoup\u001b[0m\u001b[1;33m.\u001b[0m\u001b[0mselect\u001b[0m\u001b[1;33m(\u001b[0m\u001b[1;34m'td.titleColumn a'\u001b[0m\u001b[1;33m)\u001b[0m\u001b[1;33m]\u001b[0m\u001b[1;33m\u001b[0m\u001b[1;33m\u001b[0m\u001b[0m\n\u001b[0;32m      3\u001b[0m \u001b[0mcrew\u001b[0m \u001b[1;33m=\u001b[0m \u001b[1;33m[\u001b[0m\u001b[0ma\u001b[0m\u001b[1;33m.\u001b[0m\u001b[0mattrs\u001b[0m\u001b[1;33m.\u001b[0m\u001b[0mget\u001b[0m\u001b[1;33m(\u001b[0m\u001b[1;34m'title'\u001b[0m\u001b[1;33m)\u001b[0m \u001b[1;32mfor\u001b[0m \u001b[0ma\u001b[0m \u001b[1;32min\u001b[0m \u001b[0msoup\u001b[0m\u001b[1;33m.\u001b[0m\u001b[0mselect\u001b[0m\u001b[1;33m(\u001b[0m\u001b[1;34m'td.titleColumn a'\u001b[0m\u001b[1;33m)\u001b[0m\u001b[1;33m]\u001b[0m\u001b[1;33m\u001b[0m\u001b[1;33m\u001b[0m\u001b[0m\n\u001b[0;32m      4\u001b[0m \u001b[0mratings\u001b[0m \u001b[1;33m=\u001b[0m \u001b[1;33m[\u001b[0m\u001b[0mb\u001b[0m\u001b[1;33m.\u001b[0m\u001b[0mattrs\u001b[0m\u001b[1;33m.\u001b[0m\u001b[0mget\u001b[0m\u001b[1;33m(\u001b[0m\u001b[1;34m'data-value'\u001b[0m\u001b[1;33m)\u001b[0m \u001b[1;32mfor\u001b[0m \u001b[0mb\u001b[0m \u001b[1;32min\u001b[0m \u001b[0msoup\u001b[0m\u001b[1;33m.\u001b[0m\u001b[0mselect\u001b[0m\u001b[1;33m(\u001b[0m\u001b[1;34m'td.posterColumn span[name=ir]'\u001b[0m\u001b[1;33m)\u001b[0m\u001b[1;33m]\u001b[0m\u001b[1;33m\u001b[0m\u001b[1;33m\u001b[0m\u001b[0m\n\u001b[0;32m      5\u001b[0m \u001b[0mvotes\u001b[0m \u001b[1;33m=\u001b[0m \u001b[1;33m[\u001b[0m\u001b[0mb\u001b[0m\u001b[1;33m.\u001b[0m\u001b[0mattrs\u001b[0m\u001b[1;33m.\u001b[0m\u001b[0mget\u001b[0m\u001b[1;33m(\u001b[0m\u001b[1;34m'data-value'\u001b[0m\u001b[1;33m)\u001b[0m \u001b[1;32mfor\u001b[0m \u001b[0mb\u001b[0m \u001b[1;32min\u001b[0m \u001b[0msoup\u001b[0m\u001b[1;33m.\u001b[0m\u001b[0mselect\u001b[0m\u001b[1;33m(\u001b[0m\u001b[1;34m'td.ratingColumn strong'\u001b[0m\u001b[1;33m)\u001b[0m\u001b[1;33m]\u001b[0m\u001b[1;33m\u001b[0m\u001b[1;33m\u001b[0m\u001b[0m\n",
      "\u001b[1;31mNameError\u001b[0m: name 'soup' is not defined"
     ]
    }
   ],
   "source": [
    "movies = soup.select('td.titleColumn')\n",
    "links = [a.attrs.get('href') for a in soup.select('td.titleColumn a')]\n",
    "crew = [a.attrs.get('title') for a in soup.select('td.titleColumn a')]\n",
    "ratings = [b.attrs.get('data-value') for b in soup.select('td.posterColumn span[name=ir]')]\n",
    "votes = [b.attrs.get('data-value') for b in soup.select('td.ratingColumn strong')]"
   ]
  },
  {
   "cell_type": "code",
   "execution_count": 4,
   "metadata": {},
   "outputs": [],
   "source": [
    "imdb = []"
   ]
  },
  {
   "cell_type": "code",
   "execution_count": 5,
   "metadata": {},
   "outputs": [],
   "source": [
    "# Store each item into dictionary (data), then put those into a list (imdb)\n",
    "for index in range(0,100):\n",
    "    # Separate movie into: 'place', 'title', 'year'\n",
    "    movie_string = movies[index].get_text()\n",
    "    movie = (' '.join(movie_string.split()).replace('.', ''))\n",
    "    movie_title = movie[len(str(index))+1:-7]\n",
    "    year = re.search('\\((.*?)\\)', movie_string).group(1)\n",
    "    place = movie[:len(str(index))-(len(movie))]\n",
    "    data = {\"movie_title\": movie_title,\n",
    "            \"year\": year,\n",
    "            \"place\": place,\n",
    "            \"star_cast\": crew[index],\n",
    "            \"rating\": ratings[index],\n",
    "            \"vote\": votes[index],\n",
    "            \"link\": links[index]}\n",
    "    imdb.append(data)"
   ]
  },
  {
   "cell_type": "code",
   "execution_count": 6,
   "metadata": {},
   "outputs": [
    {
     "name": "stdout",
     "output_type": "stream",
     "text": [
      "1 - The Shawshank Redemption (1994) - IMBDratings: 9.223678992855879\n",
      "2 - The Godfather (1972) - IMBDratings: 9.148014109134444\n",
      "3 - The Godfather: Part II (1974) - IMBDratings: 8.980259097204613\n",
      "4 - The Dark Knight (2008) - IMBDratings: 8.9751705170507\n",
      "5 - 12 Angry Men (1957) - IMBDratings: 8.935018097946234\n",
      "6 - Schindler's List (1993) - IMBDratings: 8.90995451145263\n",
      "7 - The Lord of the Rings: The Return of the King (2003) - IMBDratings: 8.886962564671704\n",
      "8 - Pulp Fiction (1994) - IMBDratings: 8.842713548301319\n",
      "9 - Il buono, il brutto, il cattivo (1966) - IMBDratings: 8.792716673826463\n",
      "1 -  The Lord of the Rings: The Fellowship of the Ring (2001) - IMBDratings: 8.777959911807182\n",
      "11 - Fight Club (1999) - IMBDratings: 8.763332265073783\n",
      "12 - Forrest Gump (1994) - IMBDratings: 8.754135758225184\n",
      "13 - Inception (2010) - IMBDratings: 8.720899815684719\n",
      "14 - The Lord of the Rings: The Two Towers (2002) - IMBDratings: 8.701509236743\n",
      "15 - Star Wars: Episode V - The Empire Strikes Back (1980) - IMBDratings: 8.695580762960143\n",
      "16 - The Matrix (1999) - IMBDratings: 8.648922861893006\n",
      "17 - Goodfellas (1990) - IMBDratings: 8.643146467110181\n",
      "18 - One Flew Over the Cuckoo's Nest (1975) - IMBDratings: 8.635778955550714\n",
      "19 - Shichinin no samurai (1954) - IMBDratings: 8.603026225135965\n",
      "20 - Se7en (1995) - IMBDratings: 8.59152612853816\n",
      "21 - La vita è bella (1997) - IMBDratings: 8.584123668618561\n",
      "22 - Cidade de Deus (2002) - IMBDratings: 8.579175811386138\n",
      "23 - The Silence of the Lambs (1991) - IMBDratings: 8.57577877650807\n",
      "24 - It's a Wonderful Life (1946) - IMBDratings: 8.574445133209634\n",
      "25 - Star Wars (1977) - IMBDratings: 8.551782918405403\n",
      "26 - Saving Private Ryan (1998) - IMBDratings: 8.551007263395425\n",
      "27 - The Green Mile (1999) - IMBDratings: 8.540886721410626\n",
      "28 - Sen to Chihiro no kamikakushi (2001) - IMBDratings: 8.538992861573194\n",
      "29 - Interstellar (2014) - IMBDratings: 8.536658915872122\n",
      "30 - Gisaengchung (2019) - IMBDratings: 8.528661256365016\n",
      "31 - Léon (1994) - IMBDratings: 8.50689426964175\n",
      "32 - Seppuku (1962) - IMBDratings: 8.49806965268237\n",
      "33 - The Usual Suspects (1995) - IMBDratings: 8.4931470641126\n",
      "34 - The Lion King (1994) - IMBDratings: 8.49216725378946\n",
      "35 - The Pianist (2002) - IMBDratings: 8.489152922955075\n",
      "36 - Terminator 2: Judgment Day (1991) - IMBDratings: 8.487282249127613\n",
      "37 - Back to the Future (1985) - IMBDratings: 8.48718448587706\n",
      "38 - American History X (1998) - IMBDratings: 8.481992393485267\n",
      "39 - Modern Times (1936) - IMBDratings: 8.481389155671765\n",
      "40 - Gladiator (2000) - IMBDratings: 8.477221730402846\n",
      "41 - Psycho (1960) - IMBDratings: 8.476975386138353\n",
      "42 - The Departed (2006) - IMBDratings: 8.472329435389597\n",
      "43 - City Lights (1931) - IMBDratings: 8.471874547659493\n",
      "44 - The Intouchables (2011) - IMBDratings: 8.469206644242789\n",
      "45 - Whiplash (2014) - IMBDratings: 8.468824203880116\n",
      "46 - Hotaru no haka (1988) - IMBDratings: 8.462034450801525\n",
      "47 - The Prestige (2006) - IMBDratings: 8.459840571666277\n",
      "48 - Once Upon a Time in the West (1968) - IMBDratings: 8.445023989286312\n",
      "49 - Casablanca (1942) - IMBDratings: 8.436896919129046\n",
      "50 - Nuovo Cinema Paradiso (1988) - IMBDratings: 8.433994740234935\n",
      "51 - Rear Window (1954) - IMBDratings: 8.427735769048656\n",
      "52 - Alien (1979) - IMBDratings: 8.420002176953323\n",
      "53 - Apocalypse Now (1979) - IMBDratings: 8.416127606594861\n",
      "54 - Memento (2000) - IMBDratings: 8.411196334436022\n",
      "55 - The Great Dictator (1940) - IMBDratings: 8.408775438263072\n",
      "56 - Raiders of the Lost Ark (1981) - IMBDratings: 8.404672002788816\n",
      "57 - Django Unchained (2012) - IMBDratings: 8.39326306975568\n",
      "58 - The Lives of Others (2006) - IMBDratings: 8.390088354455116\n",
      "59 - Hamilton (2020) - IMBDratings: 8.380559279218085\n",
      "60 - Paths of Glory (1957) - IMBDratings: 8.376742476977476\n",
      "61 - Joker (2019) - IMBDratings: 8.371606200343859\n",
      "62 - WALL·E (2008) - IMBDratings: 8.371031188849885\n",
      "63 - The Shining (1980) - IMBDratings: 8.36596586312\n",
      "64 - Avengers: Infinity War (2018) - IMBDratings: 8.363249712723688\n",
      "65 - Sunset Blvd (1950) - IMBDratings: 8.359869050215236\n",
      "66 - Witness for the Prosecution (1957) - IMBDratings: 8.357724592305454\n",
      "67 - Oldeuboi (2003) - IMBDratings: 8.349605588721662\n",
      "68 - Spider-Man: Into the Spider-Verse (2018) - IMBDratings: 8.349420978488078\n",
      "69 - Mononoke-hime (1997) - IMBDratings: 8.348648699150687\n",
      "70 - Dr Strangelove or: How I Learned to Stop Worrying and Love the Bomb (1964) - IMBDratings: 8.344957502375243\n",
      "71 - The Dark Knight Rises (2012) - IMBDratings: 8.331257163688145\n",
      "72 - Once Upon a Time in America (1984) - IMBDratings: 8.329129822617745\n",
      "73 - Kimi no na wa (2016) - IMBDratings: 8.323729292127636\n",
      "74 - Aliens (1986) - IMBDratings: 8.321296903808822\n",
      "75 - Coco (2017) - IMBDratings: 8.320209117802884\n",
      "76 - Avengers: Endgame (2019) - IMBDratings: 8.312010290922887\n",
      "77 - Capharnaüm (2018) - IMBDratings: 8.305396474767093\n",
      "78 - American Beauty (1999) - IMBDratings: 8.303272852774064\n",
      "79 - Braveheart (1995) - IMBDratings: 8.301785274139224\n",
      "80 - Tengoku to jigoku (1963) - IMBDratings: 8.299055293708676\n",
      "81 - Das Boot (1981) - IMBDratings: 8.298285408063272\n",
      "82 - Toy Story (1995) - IMBDratings: 8.297997872205274\n",
      "83 - 3 Idiots (2009) - IMBDratings: 8.29797049392228\n",
      "84 - Amadeus (1984) - IMBDratings: 8.291125835098422\n",
      "85 - Inglourious Basterds (2009) - IMBDratings: 8.287896072959736\n",
      "86 - Good Will Hunting (1997) - IMBDratings: 8.28373010677806\n",
      "87 - Star Wars: Episode VI - Return of the Jedi (1983) - IMBDratings: 8.283207732789712\n",
      "88 - Taare Zameen Par (2007) - IMBDratings: 8.280462281640883\n",
      "89 - Reservoir Dogs (1992) - IMBDratings: 8.277778084187386\n",
      "90 - 2001: A Space Odyssey (1968) - IMBDratings: 8.26857680028833\n",
      "91 - Requiem for a Dream (2000) - IMBDratings: 8.264926211392455\n",
      "92 - Jagten (2012) - IMBDratings: 8.261654873045645\n",
      "93 - Vertigo (1958) - IMBDratings: 8.261334929275849\n",
      "94 - M - Eine Stadt sucht einen Mörder (1931) - IMBDratings: 8.260607522224124\n",
      "95 - Eternal Sunshine of the Spotless Mind (2004) - IMBDratings: 8.258002181558135\n",
      "96 - Citizen Kane (1941) - IMBDratings: 8.254545542350703\n",
      "97 - Dangal (2016) - IMBDratings: 8.253154060166802\n",
      "98 - Singin' in the Rain (1952) - IMBDratings: 8.246630193699954\n",
      "99 - Ladri di biciclette (1948) - IMBDratings: 8.246511708054223\n",
      "10 -  The Kid (1921) - IMBDratings: 8.246458976039225\n"
     ]
    }
   ],
   "source": [
    "for item in imdb:\n",
    "    print(item['place'], '-', item['movie_title'], '('+item['year']+') -', 'IMBDratings:', item['rating'])"
   ]
  },
  {
   "cell_type": "code",
   "execution_count": 7,
   "metadata": {},
   "outputs": [
    {
     "name": "stdout",
     "output_type": "stream",
     "text": [
      "1 4 6\n"
     ]
    }
   ],
   "source": [
    " print(len (['movie_title']), len ('year'), len ('rating'))"
   ]
  },
  {
   "cell_type": "code",
   "execution_count": 10,
   "metadata": {},
   "outputs": [
    {
     "ename": "ValueError",
     "evalue": "If using all scalar values, you must pass an index",
     "output_type": "error",
     "traceback": [
      "\u001b[1;31m---------------------------------------------------------------------------\u001b[0m",
      "\u001b[1;31mValueError\u001b[0m                                Traceback (most recent call last)",
      "\u001b[1;32m<ipython-input-10-94820717171a>\u001b[0m in \u001b[0;36m<module>\u001b[1;34m\u001b[0m\n\u001b[0;32m      3\u001b[0m     \u001b[1;34m\"Movie_Tile\"\u001b[0m \u001b[1;33m:\u001b[0m \u001b[0mmovie_title\u001b[0m\u001b[1;33m,\u001b[0m\u001b[1;33m\u001b[0m\u001b[1;33m\u001b[0m\u001b[0m\n\u001b[0;32m      4\u001b[0m     \u001b[1;34m\"Year of Release\"\u001b[0m \u001b[1;33m:\u001b[0m \u001b[0myear\u001b[0m\u001b[1;33m,\u001b[0m\u001b[1;33m\u001b[0m\u001b[1;33m\u001b[0m\u001b[0m\n\u001b[1;32m----> 5\u001b[1;33m     \u001b[1;34m\"Ratings\"\u001b[0m \u001b[1;33m:\u001b[0m \u001b[0mratings\u001b[0m\u001b[1;33m[\u001b[0m\u001b[0mindex\u001b[0m\u001b[1;33m]\u001b[0m\u001b[1;33m\u001b[0m\u001b[1;33m\u001b[0m\u001b[0m\n\u001b[0m\u001b[0;32m      6\u001b[0m })\n\u001b[0;32m      7\u001b[0m \u001b[0mMovieReview\u001b[0m\u001b[1;33m\u001b[0m\u001b[1;33m\u001b[0m\u001b[0m\n",
      "\u001b[1;32m~\\anaconda3\\lib\\site-packages\\pandas\\core\\frame.py\u001b[0m in \u001b[0;36m__init__\u001b[1;34m(self, data, index, columns, dtype, copy)\u001b[0m\n\u001b[0;32m    433\u001b[0m             )\n\u001b[0;32m    434\u001b[0m         \u001b[1;32melif\u001b[0m \u001b[0misinstance\u001b[0m\u001b[1;33m(\u001b[0m\u001b[0mdata\u001b[0m\u001b[1;33m,\u001b[0m \u001b[0mdict\u001b[0m\u001b[1;33m)\u001b[0m\u001b[1;33m:\u001b[0m\u001b[1;33m\u001b[0m\u001b[1;33m\u001b[0m\u001b[0m\n\u001b[1;32m--> 435\u001b[1;33m             \u001b[0mmgr\u001b[0m \u001b[1;33m=\u001b[0m \u001b[0minit_dict\u001b[0m\u001b[1;33m(\u001b[0m\u001b[0mdata\u001b[0m\u001b[1;33m,\u001b[0m \u001b[0mindex\u001b[0m\u001b[1;33m,\u001b[0m \u001b[0mcolumns\u001b[0m\u001b[1;33m,\u001b[0m \u001b[0mdtype\u001b[0m\u001b[1;33m=\u001b[0m\u001b[0mdtype\u001b[0m\u001b[1;33m)\u001b[0m\u001b[1;33m\u001b[0m\u001b[1;33m\u001b[0m\u001b[0m\n\u001b[0m\u001b[0;32m    436\u001b[0m         \u001b[1;32melif\u001b[0m \u001b[0misinstance\u001b[0m\u001b[1;33m(\u001b[0m\u001b[0mdata\u001b[0m\u001b[1;33m,\u001b[0m \u001b[0mma\u001b[0m\u001b[1;33m.\u001b[0m\u001b[0mMaskedArray\u001b[0m\u001b[1;33m)\u001b[0m\u001b[1;33m:\u001b[0m\u001b[1;33m\u001b[0m\u001b[1;33m\u001b[0m\u001b[0m\n\u001b[0;32m    437\u001b[0m             \u001b[1;32mimport\u001b[0m \u001b[0mnumpy\u001b[0m\u001b[1;33m.\u001b[0m\u001b[0mma\u001b[0m\u001b[1;33m.\u001b[0m\u001b[0mmrecords\u001b[0m \u001b[1;32mas\u001b[0m \u001b[0mmrecords\u001b[0m\u001b[1;33m\u001b[0m\u001b[1;33m\u001b[0m\u001b[0m\n",
      "\u001b[1;32m~\\anaconda3\\lib\\site-packages\\pandas\\core\\internals\\construction.py\u001b[0m in \u001b[0;36minit_dict\u001b[1;34m(data, index, columns, dtype)\u001b[0m\n\u001b[0;32m    252\u001b[0m             \u001b[0marr\u001b[0m \u001b[1;32mif\u001b[0m \u001b[1;32mnot\u001b[0m \u001b[0mis_datetime64tz_dtype\u001b[0m\u001b[1;33m(\u001b[0m\u001b[0marr\u001b[0m\u001b[1;33m)\u001b[0m \u001b[1;32melse\u001b[0m \u001b[0marr\u001b[0m\u001b[1;33m.\u001b[0m\u001b[0mcopy\u001b[0m\u001b[1;33m(\u001b[0m\u001b[1;33m)\u001b[0m \u001b[1;32mfor\u001b[0m \u001b[0marr\u001b[0m \u001b[1;32min\u001b[0m \u001b[0marrays\u001b[0m\u001b[1;33m\u001b[0m\u001b[1;33m\u001b[0m\u001b[0m\n\u001b[0;32m    253\u001b[0m         ]\n\u001b[1;32m--> 254\u001b[1;33m     \u001b[1;32mreturn\u001b[0m \u001b[0marrays_to_mgr\u001b[0m\u001b[1;33m(\u001b[0m\u001b[0marrays\u001b[0m\u001b[1;33m,\u001b[0m \u001b[0mdata_names\u001b[0m\u001b[1;33m,\u001b[0m \u001b[0mindex\u001b[0m\u001b[1;33m,\u001b[0m \u001b[0mcolumns\u001b[0m\u001b[1;33m,\u001b[0m \u001b[0mdtype\u001b[0m\u001b[1;33m=\u001b[0m\u001b[0mdtype\u001b[0m\u001b[1;33m)\u001b[0m\u001b[1;33m\u001b[0m\u001b[1;33m\u001b[0m\u001b[0m\n\u001b[0m\u001b[0;32m    255\u001b[0m \u001b[1;33m\u001b[0m\u001b[0m\n\u001b[0;32m    256\u001b[0m \u001b[1;33m\u001b[0m\u001b[0m\n",
      "\u001b[1;32m~\\anaconda3\\lib\\site-packages\\pandas\\core\\internals\\construction.py\u001b[0m in \u001b[0;36marrays_to_mgr\u001b[1;34m(arrays, arr_names, index, columns, dtype)\u001b[0m\n\u001b[0;32m     62\u001b[0m     \u001b[1;31m# figure out the index, if necessary\u001b[0m\u001b[1;33m\u001b[0m\u001b[1;33m\u001b[0m\u001b[1;33m\u001b[0m\u001b[0m\n\u001b[0;32m     63\u001b[0m     \u001b[1;32mif\u001b[0m \u001b[0mindex\u001b[0m \u001b[1;32mis\u001b[0m \u001b[1;32mNone\u001b[0m\u001b[1;33m:\u001b[0m\u001b[1;33m\u001b[0m\u001b[1;33m\u001b[0m\u001b[0m\n\u001b[1;32m---> 64\u001b[1;33m         \u001b[0mindex\u001b[0m \u001b[1;33m=\u001b[0m \u001b[0mextract_index\u001b[0m\u001b[1;33m(\u001b[0m\u001b[0marrays\u001b[0m\u001b[1;33m)\u001b[0m\u001b[1;33m\u001b[0m\u001b[1;33m\u001b[0m\u001b[0m\n\u001b[0m\u001b[0;32m     65\u001b[0m     \u001b[1;32melse\u001b[0m\u001b[1;33m:\u001b[0m\u001b[1;33m\u001b[0m\u001b[1;33m\u001b[0m\u001b[0m\n\u001b[0;32m     66\u001b[0m         \u001b[0mindex\u001b[0m \u001b[1;33m=\u001b[0m \u001b[0mensure_index\u001b[0m\u001b[1;33m(\u001b[0m\u001b[0mindex\u001b[0m\u001b[1;33m)\u001b[0m\u001b[1;33m\u001b[0m\u001b[1;33m\u001b[0m\u001b[0m\n",
      "\u001b[1;32m~\\anaconda3\\lib\\site-packages\\pandas\\core\\internals\\construction.py\u001b[0m in \u001b[0;36mextract_index\u001b[1;34m(data)\u001b[0m\n\u001b[0;32m    353\u001b[0m \u001b[1;33m\u001b[0m\u001b[0m\n\u001b[0;32m    354\u001b[0m         \u001b[1;32mif\u001b[0m \u001b[1;32mnot\u001b[0m \u001b[0mindexes\u001b[0m \u001b[1;32mand\u001b[0m \u001b[1;32mnot\u001b[0m \u001b[0mraw_lengths\u001b[0m\u001b[1;33m:\u001b[0m\u001b[1;33m\u001b[0m\u001b[1;33m\u001b[0m\u001b[0m\n\u001b[1;32m--> 355\u001b[1;33m             \u001b[1;32mraise\u001b[0m \u001b[0mValueError\u001b[0m\u001b[1;33m(\u001b[0m\u001b[1;34m\"If using all scalar values, you must pass an index\"\u001b[0m\u001b[1;33m)\u001b[0m\u001b[1;33m\u001b[0m\u001b[1;33m\u001b[0m\u001b[0m\n\u001b[0m\u001b[0;32m    356\u001b[0m \u001b[1;33m\u001b[0m\u001b[0m\n\u001b[0;32m    357\u001b[0m         \u001b[1;32mif\u001b[0m \u001b[0mhave_series\u001b[0m\u001b[1;33m:\u001b[0m\u001b[1;33m\u001b[0m\u001b[1;33m\u001b[0m\u001b[0m\n",
      "\u001b[1;31mValueError\u001b[0m: If using all scalar values, you must pass an index"
     ]
    }
   ],
   "source": [
    "MovieReview = pd.DataFrame({\n",
    "    \"Sl.no\" : place,\n",
    "    \"Movie_Tile\" : movie_title,\n",
    "    \"Year of Release\" : year,\n",
    "    \"Ratings\" : ratings[index]\n",
    "})\n",
    "MovieReview"
   ]
  },
  {
   "cell_type": "code",
   "execution_count": null,
   "metadata": {},
   "outputs": [],
   "source": []
  },
  {
   "cell_type": "code",
   "execution_count": null,
   "metadata": {},
   "outputs": [],
   "source": []
  }
 ],
 "metadata": {
  "kernelspec": {
   "display_name": "Python 3",
   "language": "python",
   "name": "python3"
  },
  "language_info": {
   "codemirror_mode": {
    "name": "ipython",
    "version": 3
   },
   "file_extension": ".py",
   "mimetype": "text/x-python",
   "name": "python",
   "nbconvert_exporter": "python",
   "pygments_lexer": "ipython3",
   "version": "3.7.6"
  }
 },
 "nbformat": 4,
 "nbformat_minor": 4
}
