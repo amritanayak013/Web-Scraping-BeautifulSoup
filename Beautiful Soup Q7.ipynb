{
 "cells": [
  {
   "cell_type": "raw",
   "metadata": {},
   "source": [
    "Q7.Write a python program to scrape details of all the mobile phones under Rs. 20,000 listed on Amazon.in. The scraped data should include Product Name, Price, Image URL and Average Rating."
   ]
  },
  {
   "cell_type": "code",
   "execution_count": 1,
   "metadata": {},
   "outputs": [],
   "source": [
    "# importing libraries \n",
    "from bs4 import BeautifulSoup \n",
    "import requests "
   ]
  },
  {
   "cell_type": "code",
   "execution_count": 10,
   "metadata": {},
   "outputs": [],
   "source": [
    "def main(URL): \n",
    "    # opening our output file in append mode \n",
    "    File = open(\"out.csv\", \"a\") "
   ]
  },
  {
   "cell_type": "code",
   "execution_count": 11,
   "metadata": {},
   "outputs": [],
   "source": [
    "URL = 'https://www.amazon.in/Mobile-Phone-Under-20000-Rupees/s?k=Mobile+Phone+Under+20000+Rupees'\n",
    "webpage = requests.get(URL)  \n",
    "soup = BeautifulSoup(webpage.content, \"lxml\") "
   ]
  },
  {
   "cell_type": "code",
   "execution_count": 18,
   "metadata": {},
   "outputs": [
    {
     "ename": "SyntaxError",
     "evalue": "invalid syntax (<ipython-input-18-bdc78433ffe6>, line 5)",
     "output_type": "error",
     "traceback": [
      "\u001b[1;36m  File \u001b[1;32m\"<ipython-input-18-bdc78433ffe6>\"\u001b[1;36m, line \u001b[1;32m5\u001b[0m\n\u001b[1;33m    except AttributeError:\u001b[0m\n\u001b[1;37m         ^\u001b[0m\n\u001b[1;31mSyntaxError\u001b[0m\u001b[1;31m:\u001b[0m invalid syntax\n"
     ]
    }
   ],
   "source": [
    "title = soup.find(\"span\", attrs={\"id\": 'productTitle'}) \n",
    "title_value = title.string \n",
    "title_string = title_value.strip().replace(',', '') \n",
    "            \n",
    "except AttributeError: \n",
    "  title_string = \"NA\"\n",
    "  print(\"product Title = \", title_string)\n",
    "    \n",
    "# saving the title in the file \n",
    "    File.write(f\"{title_string},\")"
   ]
  },
  {
   "cell_type": "code",
   "execution_count": 22,
   "metadata": {},
   "outputs": [
    {
     "ename": "IndentationError",
     "evalue": "unexpected indent (<ipython-input-22-a7b5bf0f7079>, line 2)",
     "output_type": "error",
     "traceback": [
      "\u001b[1;36m  File \u001b[1;32m\"<ipython-input-22-a7b5bf0f7079>\"\u001b[1;36m, line \u001b[1;32m2\u001b[0m\n\u001b[1;33m    try: price = soup.find(\"span\", attrs={'id': 'priceblock_ourprice'}).string.strip().replace(',', '')\u001b[0m\n\u001b[1;37m    ^\u001b[0m\n\u001b[1;31mIndentationError\u001b[0m\u001b[1;31m:\u001b[0m unexpected indent\n"
     ]
    }
   ],
   "source": [
    "# retreiving price \n",
    "    try: price = soup.find(\"span\", attrs={'id': 'priceblock_ourprice'}).string.strip().replace(',', '') \n",
    "    \n",
    "    except AttributeError: \n",
    "        price = \"NA\"\n",
    "    print(\"Products price = \", price) \n",
    "  \n",
    "    # saving \n",
    "    File.write(f\"{price},\") "
   ]
  },
  {
   "cell_type": "code",
   "execution_count": 23,
   "metadata": {},
   "outputs": [
    {
     "ename": "IndentationError",
     "evalue": "unexpected indent (<ipython-input-23-cf544408416f>, line 2)",
     "output_type": "error",
     "traceback": [
      "\u001b[1;36m  File \u001b[1;32m\"<ipython-input-23-cf544408416f>\"\u001b[1;36m, line \u001b[1;32m2\u001b[0m\n\u001b[1;33m    try: rating = soup.find(\"i\", attrs={'class': 'a-icon a-icon-star a-star-4-5'}).string.strip().replace(',', '')\u001b[0m\n\u001b[1;37m    ^\u001b[0m\n\u001b[1;31mIndentationError\u001b[0m\u001b[1;31m:\u001b[0m unexpected indent\n"
     ]
    }
   ],
   "source": [
    "# retreiving product rating \n",
    "    try: rating = soup.find(\"i\", attrs={'class': 'a-icon a-icon-star a-star-4-5'}).string.strip().replace(',', '') \n",
    "  \n",
    "    except AttributeError: \n",
    "  \n",
    "        try: \n",
    "            rating = soup.find(\"span\", attrs={'class': 'a-icon-alt'}).string.strip().replace(',', '') \n",
    "        except: \n",
    "            rating = \"NA\"\n",
    "    print(\"Overall rating = \", rating)"
   ]
  },
  {
   "cell_type": "code",
   "execution_count": 24,
   "metadata": {},
   "outputs": [
    {
     "ename": "IndentationError",
     "evalue": "unexpected indent (<ipython-input-24-9667cbc33b54>, line 3)",
     "output_type": "error",
     "traceback": [
      "\u001b[1;36m  File \u001b[1;32m\"<ipython-input-24-9667cbc33b54>\"\u001b[1;36m, line \u001b[1;32m3\u001b[0m\n\u001b[1;33m    try:\u001b[0m\n\u001b[1;37m    ^\u001b[0m\n\u001b[1;31mIndentationError\u001b[0m\u001b[1;31m:\u001b[0m unexpected indent\n"
     ]
    }
   ],
   "source": [
    "File.write(f\"{rating},\") \n",
    "  \n",
    "    try: \n",
    "        review_count = soup.find( \n",
    "            \"span\", attrs={'id': 'acrCustomerReviewText'}) \n",
    "                                .string.strip().replace(',', '') \n",
    "  \n",
    "    except AttributeError: \n",
    "        review_count = \"NA\"\n",
    "    print(\"Total reviews = \", review_count) \n",
    "    File.write(f\"{review_count},\") "
   ]
  },
  {
   "cell_type": "code",
   "execution_count": 25,
   "metadata": {},
   "outputs": [
    {
     "ename": "IndentationError",
     "evalue": "unexpected indent (<ipython-input-25-ddc775c66783>, line 2)",
     "output_type": "error",
     "traceback": [
      "\u001b[1;36m  File \u001b[1;32m\"<ipython-input-25-ddc775c66783>\"\u001b[1;36m, line \u001b[1;32m2\u001b[0m\n\u001b[1;33m    try:\u001b[0m\n\u001b[1;37m    ^\u001b[0m\n\u001b[1;31mIndentationError\u001b[0m\u001b[1;31m:\u001b[0m unexpected indent\n"
     ]
    }
   ],
   "source": [
    " # print availiblility status \n",
    "    try: \n",
    "        available = soup.find(\"div\", attrs={'id': 'availability'}) \n",
    "        available = available.find(\"span\") \n",
    "                    .string.strip().replace(',', '') \n",
    "  \n",
    "    except AttributeError: \n",
    "        available = \"NA\"\n",
    "    print(\"Availability = \", available) \n",
    "  \n",
    "    # saving the availibility and closing the line \n",
    "    File.write(f\"{available},\\n\") \n",
    "  \n",
    "    # closing the file \n",
    "    File.close() "
   ]
  },
  {
   "cell_type": "code",
   "execution_count": 26,
   "metadata": {},
   "outputs": [
    {
     "ename": "FileNotFoundError",
     "evalue": "[Errno 2] No such file or directory: 'url.txt'",
     "output_type": "error",
     "traceback": [
      "\u001b[1;31m---------------------------------------------------------------------------\u001b[0m",
      "\u001b[1;31mFileNotFoundError\u001b[0m                         Traceback (most recent call last)",
      "\u001b[1;32m<ipython-input-26-3aa23438f8bb>\u001b[0m in \u001b[0;36m<module>\u001b[1;34m\u001b[0m\n\u001b[0;32m      1\u001b[0m \u001b[1;32mif\u001b[0m \u001b[0m__name__\u001b[0m \u001b[1;33m==\u001b[0m \u001b[1;34m'__main__'\u001b[0m\u001b[1;33m:\u001b[0m\u001b[1;33m\u001b[0m\u001b[1;33m\u001b[0m\u001b[0m\n\u001b[0;32m      2\u001b[0m   \u001b[1;31m# openning our url file to access URLs\u001b[0m\u001b[1;33m\u001b[0m\u001b[1;33m\u001b[0m\u001b[1;33m\u001b[0m\u001b[0m\n\u001b[1;32m----> 3\u001b[1;33m     \u001b[0mfile\u001b[0m \u001b[1;33m=\u001b[0m \u001b[0mopen\u001b[0m\u001b[1;33m(\u001b[0m\u001b[1;34m\"url.txt\"\u001b[0m\u001b[1;33m,\u001b[0m \u001b[1;34m\"r\"\u001b[0m\u001b[1;33m)\u001b[0m\u001b[1;33m\u001b[0m\u001b[1;33m\u001b[0m\u001b[0m\n\u001b[0m\u001b[0;32m      4\u001b[0m \u001b[1;33m\u001b[0m\u001b[0m\n\u001b[0;32m      5\u001b[0m     \u001b[1;31m# iterating over the urls\u001b[0m\u001b[1;33m\u001b[0m\u001b[1;33m\u001b[0m\u001b[1;33m\u001b[0m\u001b[0m\n",
      "\u001b[1;31mFileNotFoundError\u001b[0m: [Errno 2] No such file or directory: 'url.txt'"
     ]
    }
   ],
   "source": [
    "if __name__ == '__main__': \n",
    "  # openning our url file to access URLs \n",
    "    file = open(\"url.txt\", \"r\") \n",
    "  \n",
    "    # iterating over the urls \n",
    "    for links in file.readlines(): \n",
    "        main(links)"
   ]
  },
  {
   "cell_type": "code",
   "execution_count": null,
   "metadata": {},
   "outputs": [],
   "source": []
  }
 ],
 "metadata": {
  "kernelspec": {
   "display_name": "Python 3",
   "language": "python",
   "name": "python3"
  },
  "language_info": {
   "codemirror_mode": {
    "name": "ipython",
    "version": 3
   },
   "file_extension": ".py",
   "mimetype": "text/x-python",
   "name": "python",
   "nbconvert_exporter": "python",
   "pygments_lexer": "ipython3",
   "version": "3.7.6"
  }
 },
 "nbformat": 4,
 "nbformat_minor": 4
}
