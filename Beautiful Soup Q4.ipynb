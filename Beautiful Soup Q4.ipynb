{
 "cells": [
  {
   "cell_type": "raw",
   "metadata": {},
   "source": [
    "Q4.Write a python program to scrap book name, author name, genre and book review of any 5 books from ‘www.bookpage.com’"
   ]
  },
  {
   "cell_type": "code",
   "execution_count": 1,
   "metadata": {},
   "outputs": [],
   "source": [
    "# import module \n",
    "import requests \n",
    "from bs4 import BeautifulSoup"
   ]
  },
  {
   "cell_type": "code",
   "execution_count": 2,
   "metadata": {},
   "outputs": [],
   "source": [
    "# link for extract html data Making a GET request  \n",
    "      \n",
    "def getdata(url): \n",
    "    r=requests.get(url) \n",
    "    return r.text"
   ]
  },
  {
   "cell_type": "code",
   "execution_count": 3,
   "metadata": {},
   "outputs": [
    {
     "name": "stdout",
     "output_type": "stream",
     "text": [
      "<!DOCTYPE html>\n",
      "\n",
      "<html>\n",
      "<head>\n",
      "<title>BookPage | Page Not Found (404)</title>\n",
      "<style type=\"text/css\">\n",
      "    @import url('https://fonts.googleapis.com/css?family=Libre+Baskerville:400,400i');\n",
      "    @import url('https://fonts.googleapis.com/css?family=PT+Sans');\n",
      "\n",
      "    body {\n",
      "      background-color: white;\n",
      "      color: #000;\n",
      "      text-align: center;\n",
      "      font-family: \"Libre Baskerville\", \"Droid Serif\", \"Times New Roman\", Times, serif;\n",
      "    }\n",
      "    a:link, a:visited, a:hover, a:active {\n",
      "      color: #B00000;\n",
      "    }\n",
      "    .serif-font {\n",
      "      font-family: \"PT Sans\", Helvetica, Arial, sans-serif !important;\n",
      "    }\n",
      "    div.dialog {\n",
      "      background-color: #FFF;\n",
      "      width: 25em;\n",
      "      padding: 2em 4em;\n",
      "      margin: 4em auto 0 auto;\n",
      "      box-shadow: 0 1px 2px 0 rgba(0,0,0,0.2), 0 1px 3px 0 rgba(0,0,0,0.1);\n",
      "    }\n",
      "    img.logo {\n",
      "      border: none;\n",
      "      max-width: 250px;\n",
      "    }\n",
      "    p.homelink {\n",
      "      font-size: 100%;\n",
      "      font-weight: bold;\n",
      "      padding: 0;\n",
      "      margin: 0;\n",
      "    }\n",
      "    h1 { font-size: 100%; color: #B00000; line-height: 1.5em; }\n",
      "  </style>\n",
      "</head>\n",
      "<body>\n",
      "<!-- This file lives in public/404.html -->\n",
      "<div class=\"dialog\">\n",
      "<a href=\"http://bookpage.com\">\n",
      "<img class=\"logo\" src=\"/images/logo_large.png\"/>\n",
      "</a>\n",
      "<h1 class=\"serif-font\">404 Error - Page Not Found</h1>\n",
      "<p>\n",
      "      We're sorry, the address you entered is not a functioning page on our\n",
      "      site.\n",
      "    </p>\n",
      "<p class=\"homelink serif-font\">\n",
      "      Go to BookPage's <a href=\"http://bookpage.com\">Home</a> Page\n",
      "    </p>\n",
      "</div>\n",
      "</body>\n",
      "</html>\n",
      "\n"
     ]
    }
   ],
   "source": [
    "# input article by bookpage \n",
    "article = \"optparse-module-in-python\"\n",
    "  \n",
    "# url \n",
    "url = \"https://bookpage.com/reviews\"+article \n",
    "  \n",
    "# pass the url \n",
    "# into getdata function \n",
    "htmldata=getdata(url) \n",
    "soup = BeautifulSoup(htmldata, 'html.parser') \n",
    "  \n",
    "# display html code \n",
    "print(soup)"
   ]
  },
  {
   "cell_type": "code",
   "execution_count": null,
   "metadata": {},
   "outputs": [],
   "source": []
  }
 ],
 "metadata": {
  "kernelspec": {
   "display_name": "Python 3",
   "language": "python",
   "name": "python3"
  },
  "language_info": {
   "codemirror_mode": {
    "name": "ipython",
    "version": 3
   },
   "file_extension": ".py",
   "mimetype": "text/x-python",
   "name": "python",
   "nbconvert_exporter": "python",
   "pygments_lexer": "ipython3",
   "version": "3.7.6"
  }
 },
 "nbformat": 4,
 "nbformat_minor": 4
}
