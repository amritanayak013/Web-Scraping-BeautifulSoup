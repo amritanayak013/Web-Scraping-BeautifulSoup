{
 "cells": [
  {
   "cell_type": "raw",
   "metadata": {},
   "source": [
    "Q3.Write a python program to display IMDB’s Top rated 100 Indian movies’ data (i.e. Name, IMDB rating, Year of release) and save it in form of a CSV file."
   ]
  },
  {
   "cell_type": "code",
   "execution_count": 1,
   "metadata": {},
   "outputs": [],
   "source": [
    "from bs4 import BeautifulSoup\n",
    "import requests\n",
    "import re\n",
    "import csv"
   ]
  },
  {
   "cell_type": "code",
   "execution_count": 2,
   "metadata": {},
   "outputs": [],
   "source": [
    "# Download IMDB's Top 100 Indian Movies data\n",
    "url = 'https://www.imdb.com/india/top-rated-indian-movies/'\n",
    "response = requests.get(url)\n",
    "soup = BeautifulSoup(response.text,'lxml')"
   ]
  },
  {
   "cell_type": "code",
   "execution_count": 3,
   "metadata": {},
   "outputs": [],
   "source": [
    "movies = soup.select('td.titleColumn')\n",
    "links = [a.attrs.get('href') for a in soup.select('td.titleColumn a')]\n",
    "crew = [a.attrs.get('title') for a in soup.select('td.titleColumn a')]\n",
    "ratings = [b.attrs.get('data-value') for b in soup.select('td.posterColumn span[name=ir]')]\n",
    "votes = [b.attrs.get('data-value') for b in soup.select('td.ratingColumn strong')]"
   ]
  },
  {
   "cell_type": "code",
   "execution_count": 4,
   "metadata": {},
   "outputs": [],
   "source": [
    "imdb_indianmovies = []"
   ]
  },
  {
   "cell_type": "code",
   "execution_count": 5,
   "metadata": {},
   "outputs": [],
   "source": [
    "# Store each item into dictionary (data), then put those into a list (imdb)\n",
    "for index in range(0,100):\n",
    "    # Seperate movie into: 'place', 'title', 'year'\n",
    "    movie_string = movies[index].get_text()\n",
    "    movie = (' '.join(movie_string.split()).replace('.', ''))\n",
    "    movie_title = movie[len(str(index))+1:-7]\n",
    "    year = re.search('\\((.*?)\\)', movie_string).group(1)\n",
    "    place = movie[:len(str(index))-(len(movie))]\n",
    "    data = {\"movie_title\": movie_title,\n",
    "            \"year\": year,\n",
    "            \"place\": place,\n",
    "            \"star_cast\": crew[index],\n",
    "            \"rating\": ratings[index],\n",
    "            \"vote\": votes[index],\n",
    "            \"link\": links[index]}\n",
    "    imdb_indianmovies.append(data)"
   ]
  },
  {
   "cell_type": "code",
   "execution_count": 6,
   "metadata": {},
   "outputs": [
    {
     "name": "stdout",
     "output_type": "stream",
     "text": [
      "1 - Pather Panchali (1955) - IMBDratings: 8.518313680884628\n",
      "2 - Gol Maal (1979) - IMBDratings: 8.472222819377592\n",
      "3 - Nayakan (1987) - IMBDratings: 8.465372308717056\n",
      "4 - Anbe Sivam (2003) - IMBDratings: 8.458635482273085\n",
      "5 - Drishyam 2 (2021) - IMBDratings: 8.453614014742707\n",
      "6 - Apur Sansar (1959) - IMBDratings: 8.450917187346832\n",
      "7 - Kireedam (1989) - IMBDratings: 8.429362282769878\n",
      "8 - Natsamrat (2016) - IMBDratings: 8.429057134789135\n",
      "9 - Pariyerum Perumal (2018) - IMBDratings: 8.427014032059056\n",
      "1 -  Black Friday (2004) - IMBDratings: 8.415465354236035\n",
      "11 - Manichitrathazhu (1993) - IMBDratings: 8.413600293733822\n",
      "12 - Thevar Magan (1992) - IMBDratings: 8.390560833104328\n",
      "13 - 96 (2018) - IMBDratings: 8.38407259432634\n",
      "14 - Ratsasan (2018) - IMBDratings: 8.371598143380721\n",
      "15 - Kumbalangi Nights (2019) - IMBDratings: 8.360251987867189\n",
      "16 - 3 Idiots (2009) - IMBDratings: 8.353138868596128\n",
      "17 - Taare Zameen Par (2007) - IMBDratings: 8.341665937935252\n",
      "18 - Visaaranai (2015) - IMBDratings: 8.317558661537381\n",
      "19 - Thalapathi (1991) - IMBDratings: 8.294997293502758\n",
      "20 - Aparajito (1956) - IMBDratings: 8.283090997398682\n",
      "21 - Jaane Bhi Do Yaaro (1983) - IMBDratings: 8.27487923264592\n",
      "22 - Asuran (2019) - IMBDratings: 8.26493702045931\n",
      "23 - Pyaasa (1957) - IMBDratings: 8.26422620220236\n",
      "24 - Guide (1965) - IMBDratings: 8.262439452289017\n",
      "25 - Anand (1971) - IMBDratings: 8.25413705362285\n",
      "26 - Kannathil Muthamittal (2002) - IMBDratings: 8.251215236762395\n",
      "27 - Jersey (2019) - IMBDratings: 8.248842619732699\n",
      "28 - Chupke Chupke (1975) - IMBDratings: 8.247241631400929\n",
      "29 - Kaithi (2019) - IMBDratings: 8.237056318492144\n",
      "30 - Drishyam (2013) - IMBDratings: 8.235402979328063\n",
      "31 - Thani Oruvan (2015) - IMBDratings: 8.232876977790514\n",
      "32 - Vikram Vedha (2017) - IMBDratings: 8.227312306337936\n",
      "33 - Vada Chennai (2018) - IMBDratings: 8.22435867438916\n",
      "34 - Soorarai Pottru (2020) - IMBDratings: 8.213195430239663\n",
      "35 - Peranbu (2018) - IMBDratings: 8.207737144267544\n",
      "36 - Aruvi (2016) - IMBDratings: 8.20761987779543\n",
      "37 - Khosla Ka Ghosla! (2006) - IMBDratings: 8.205381252286035\n",
      "38 - Super Deluxe (2019) - IMBDratings: 8.191890384793604\n",
      "39 - Agent Sai Srinivasa Athreya (2019) - IMBDratings: 8.18359721596036\n",
      "40 - Mahanati (2018) - IMBDratings: 8.181447144391894\n",
      "41 - Tumbbad (2018) - IMBDratings: 8.180266495834653\n",
      "42 - Andhadhun (2018) - IMBDratings: 8.177413625129969\n",
      "43 - Kaakkaa Muttai (2014) - IMBDratings: 8.166883881481708\n",
      "44 - Premam (2015) - IMBDratings: 8.165026225055259\n",
      "45 - Dhuruvangal Pathinaaru (2016) - IMBDratings: 8.160560966334387\n",
      "46 - Satya (1998) - IMBDratings: 8.157685711877528\n",
      "47 - Shahid (2012) - IMBDratings: 8.156028302504422\n",
      "48 - Bangalore Days (2014) - IMBDratings: 8.154983100496489\n",
      "49 - Mudhalvan (1999) - IMBDratings: 8.149779708998647\n",
      "50 - Soodhu Kavvum (2013) - IMBDratings: 8.148370225427124\n",
      "51 - Anniyan (2005) - IMBDratings: 8.147509028848846\n",
      "52 - Gangs of Wasseypur (2012) - IMBDratings: 8.143333124029363\n",
      "53 - Papanasam (2015) - IMBDratings: 8.143265466165104\n",
      "54 - Jigarthanda (2014) - IMBDratings: 8.136321256709392\n",
      "55 - Bhaag Milkha Bhaag (2013) - IMBDratings: 8.12665329394576\n",
      "56 - Paan Singh Tomar (2012) - IMBDratings: 8.125619337580497\n",
      "57 - Swades: We, the People (2004) - IMBDratings: 8.12554297785954\n",
      "58 - Talvar (2015) - IMBDratings: 8.125492451676733\n",
      "59 - Sholay (1975) - IMBDratings: 8.123764776454715\n",
      "60 - Hera Pheri (2000) - IMBDratings: 8.123692100898456\n",
      "61 - Sairat (2016) - IMBDratings: 8.120972721985872\n",
      "62 - Drishyam (2015) - IMBDratings: 8.12012743612084\n",
      "63 - Nil Battey Sannata (2015) - IMBDratings: 8.118659390132208\n",
      "64 - Black (2005) - IMBDratings: 8.117385057384032\n",
      "65 - Chak De! India (2007) - IMBDratings: 8.116187234886876\n",
      "66 - Pithamagan (2003) - IMBDratings: 8.115447280567567\n",
      "67 - Charulata (1964) - IMBDratings: 8.11201768373617\n",
      "68 - Jo Jeeta Wohi Sikandar (1992) - IMBDratings: 8.111619076148962\n",
      "69 - Mughal-E-Azam (1960) - IMBDratings: 8.11058576169537\n",
      "70 - Ustad Hotel (2012) - IMBDratings: 8.10544659787053\n",
      "71 - Rang De Basanti (2006) - IMBDratings: 8.103246801939633\n",
      "72 - Udaan (2010) - IMBDratings: 8.103160438074868\n",
      "73 - Queen (2013) - IMBDratings: 8.102657262510252\n",
      "74 - Zindagi Na Milegi Dobara (2011) - IMBDratings: 8.101828923220358\n",
      "75 - Article 15 (2019) - IMBDratings: 8.100785351851423\n",
      "76 - A Wednesday (2008) - IMBDratings: 8.100185950326969\n",
      "77 - Munna Bhai MBBS (2003) - IMBDratings: 8.096630760843919\n",
      "78 - Dil Chahta Hai (2001) - IMBDratings: 8.094607998716027\n",
      "79 - Sarfarosh (1999) - IMBDratings: 8.091719943537525\n",
      "80 - Masaan (2015) - IMBDratings: 8.088557865338005\n",
      "81 - Andaz Apna Apna (1994) - IMBDratings: 8.086784209888988\n",
      "82 - Maheshinte Prathikaaram (2016) - IMBDratings: 8.085923222416044\n",
      "83 - OMG: Oh My God! (2012) - IMBDratings: 8.085847904675306\n",
      "84 - Roja (1992) - IMBDratings: 8.083494449981778\n",
      "85 - Lagaan: Once Upon a Time in India (2001) - IMBDratings: 8.078193902582278\n",
      "86 - Alai Payuthey (2000) - IMBDratings: 8.076567414410988\n",
      "87 - Kahaani (2012) - IMBDratings: 8.07156337853146\n",
      "88 - Theeran adhigaaram ondru (2017) - IMBDratings: 8.071450652880738\n",
      "89 - Baasha (1995) - IMBDratings: 8.06886980047812\n",
      "90 - PK (2014) - IMBDratings: 8.064491962797971\n",
      "91 - Uri: The Surgical Strike (2018) - IMBDratings: 8.059472822878112\n",
      "92 - Iqbal (2005) - IMBDratings: 8.05583614108888\n",
      "93 - Lucia (2013) - IMBDratings: 8.049539756550399\n",
      "94 - Pink (2016) - IMBDratings: 8.048790313479739\n",
      "95 - Barfi! (2012) - IMBDratings: 8.04871781897565\n",
      "96 - The Legend of Bhagat Singh (2002) - IMBDratings: 8.045706021792109\n",
      "97 - Bommarillu (2006) - IMBDratings: 8.043193435964213\n",
      "98 - Maqbool (2003) - IMBDratings: 8.035021997168197\n",
      "99 - Bombay (1995) - IMBDratings: 8.034789638157774\n",
      "10 -  Omkara (2006) - IMBDratings: 8.03363067167955\n"
     ]
    }
   ],
   "source": [
    "for item in imdb_indianmovies:\n",
    "    print(item['place'], '-', item['movie_title'], '('+item['year']+') -', 'IMBDratings:', item['rating'])"
   ]
  },
  {
   "cell_type": "code",
   "execution_count": null,
   "metadata": {},
   "outputs": [],
   "source": []
  }
 ],
 "metadata": {
  "kernelspec": {
   "display_name": "Python 3",
   "language": "python",
   "name": "python3"
  },
  "language_info": {
   "codemirror_mode": {
    "name": "ipython",
    "version": 3
   },
   "file_extension": ".py",
   "mimetype": "text/x-python",
   "name": "python",
   "nbconvert_exporter": "python",
   "pygments_lexer": "ipython3",
   "version": "3.7.6"
  }
 },
 "nbformat": 4,
 "nbformat_minor": 4
}
